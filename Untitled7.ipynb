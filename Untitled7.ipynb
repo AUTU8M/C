{
  "nbformat": 4,
  "nbformat_minor": 0,
  "metadata": {
    "colab": {
      "provenance": [],
      "authorship_tag": "ABX9TyOR/ZZUzvZuNh9at6njmDDJ",
      "include_colab_link": true
    },
    "kernelspec": {
      "name": "python3",
      "display_name": "Python 3"
    },
    "language_info": {
      "name": "python"
    }
  },
  "cells": [
    {
      "cell_type": "markdown",
      "metadata": {
        "id": "view-in-github",
        "colab_type": "text"
      },
      "source": [
        "<a href=\"https://colab.research.google.com/github/AUTU8M/C/blob/master/Untitled7.ipynb\" target=\"_parent\"><img src=\"https://colab.research.google.com/assets/colab-badge.svg\" alt=\"Open In Colab\"/></a>"
      ]
    },
    {
      "cell_type": "code",
      "source": [
        "def addDigits(num:int)->int:\n",
        "\n",
        "    return 0 if num==0 else 1 + (num - 1) % 9\n",
        "#example\n",
        "print(addDigits(38));\n",
        "print(addDigits(0));"
      ],
      "metadata": {
        "colab": {
          "base_uri": "https://localhost:8080/"
        },
        "id": "y4KkFUTiZtE9",
        "outputId": "0ca962cf-5eb0-4cbc-8012-a695c7a808d1"
      },
      "execution_count": null,
      "outputs": [
        {
          "output_type": "stream",
          "name": "stdout",
          "text": [
            "2\n",
            "0\n"
          ]
        }
      ]
    },
    {
      "cell_type": "code",
      "source": [
        "class Solution:\n",
        "  def addDigits(self, num: int) -> int:\n",
        "    return 0 if num == 0 else 1 + (num - 1) % 9"
      ],
      "metadata": {
        "id": "g61XVjIogrT0"
      },
      "execution_count": null,
      "outputs": []
    }
  ]
}