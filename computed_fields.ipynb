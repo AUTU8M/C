{
  "nbformat": 4,
  "nbformat_minor": 0,
  "metadata": {
    "colab": {
      "provenance": [],
      "authorship_tag": "ABX9TyObRp6s/DKo3Iz1KBPzaKIh",
      "include_colab_link": true
    },
    "kernelspec": {
      "name": "python3",
      "display_name": "Python 3"
    },
    "language_info": {
      "name": "python"
    }
  },
  "cells": [
    {
      "cell_type": "markdown",
      "metadata": {
        "id": "view-in-github",
        "colab_type": "text"
      },
      "source": [
        "<a href=\"https://colab.research.google.com/github/AUTU8M/C/blob/master/computed_fields.ipynb\" target=\"_parent\"><img src=\"https://colab.research.google.com/assets/colab-badge.svg\" alt=\"Open In Colab\"/></a>"
      ]
    },
    {
      "cell_type": "code",
      "source": [
        "!pip install pydantic[email]"
      ],
      "metadata": {
        "colab": {
          "base_uri": "https://localhost:8080/"
        },
        "id": "f9G0awnXZ_8x",
        "outputId": "5ab32715-773c-4859-a3c7-e2e3ed39bfe9"
      },
      "execution_count": 2,
      "outputs": [
        {
          "output_type": "stream",
          "name": "stdout",
          "text": [
            "Requirement already satisfied: pydantic[email] in /usr/local/lib/python3.11/dist-packages (2.11.4)\n",
            "Requirement already satisfied: annotated-types>=0.6.0 in /usr/local/lib/python3.11/dist-packages (from pydantic[email]) (0.7.0)\n",
            "Requirement already satisfied: pydantic-core==2.33.2 in /usr/local/lib/python3.11/dist-packages (from pydantic[email]) (2.33.2)\n",
            "Requirement already satisfied: typing-extensions>=4.12.2 in /usr/local/lib/python3.11/dist-packages (from pydantic[email]) (4.13.2)\n",
            "Requirement already satisfied: typing-inspection>=0.4.0 in /usr/local/lib/python3.11/dist-packages (from pydantic[email]) (0.4.0)\n",
            "Collecting email-validator>=2.0.0 (from pydantic[email])\n",
            "  Downloading email_validator-2.2.0-py3-none-any.whl.metadata (25 kB)\n",
            "Collecting dnspython>=2.0.0 (from email-validator>=2.0.0->pydantic[email])\n",
            "  Downloading dnspython-2.7.0-py3-none-any.whl.metadata (5.8 kB)\n",
            "Requirement already satisfied: idna>=2.0.0 in /usr/local/lib/python3.11/dist-packages (from email-validator>=2.0.0->pydantic[email]) (3.10)\n",
            "Downloading email_validator-2.2.0-py3-none-any.whl (33 kB)\n",
            "Downloading dnspython-2.7.0-py3-none-any.whl (313 kB)\n",
            "\u001b[2K   \u001b[90m━━━━━━━━━━━━━━━━━━━━━━━━━━━━━━━━━━━━━━━━\u001b[0m \u001b[32m313.6/313.6 kB\u001b[0m \u001b[31m8.0 MB/s\u001b[0m eta \u001b[36m0:00:00\u001b[0m\n",
            "\u001b[?25hInstalling collected packages: dnspython, email-validator\n",
            "Successfully installed dnspython-2.7.0 email-validator-2.2.0\n"
          ]
        }
      ]
    },
    {
      "cell_type": "code",
      "execution_count": 4,
      "metadata": {
        "colab": {
          "base_uri": "https://localhost:8080/"
        },
        "id": "OGMYYyLDZ300",
        "outputId": "e9c1066f-e53c-4d10-92ab-85a93e06ac5a"
      },
      "outputs": [
        {
          "output_type": "stream",
          "name": "stdout",
          "text": [
            "ladla\n",
            "90\n",
            "shubham365@hdfc.com\n",
            "inserted\n",
            "bmi 0.01\n"
          ]
        }
      ],
      "source": [
        "#computed fields\n",
        "\n",
        "from pydantic import BaseModel, EmailStr, computed_field\n",
        "from typing import List, Dict\n",
        "\n",
        "class Patient(BaseModel):\n",
        "\n",
        "    name: str\n",
        "    email: EmailStr\n",
        "    age: int\n",
        "    height: float\n",
        "    weight: float\n",
        "    married: bool\n",
        "    allergies: List[str]\n",
        "    contact_details: Dict[str, str]\n",
        "\n",
        "    @computed_field\n",
        "    @property\n",
        "    def computed_bmi(self) -> float:\n",
        "      bmi = round(self.weight / (self.age ** 2),2)\n",
        "      return bmi\n",
        "\n",
        "\n",
        "\n",
        "def insert_patient_data(patient: Patient):\n",
        "\n",
        "    print(patient.name)\n",
        "    print(patient.age)\n",
        "    print(patient.email)\n",
        "    print(\"inserted\")\n",
        "    print('bmi', patient.computed_bmi)\n",
        "\n",
        "\n",
        "patient_info = {\n",
        "    \"name\": \"ladla\",\n",
        "    \"email\": \"shubham365@hdfc.com\",\n",
        "    \"height\":\"1.72\",\n",
        "    \"age\": '90',\n",
        "    \"weight\": \"70.12\",\n",
        "    \"married\": True,\n",
        "    \"allergies\": [\"pollen\", \"dust\", \"shrimp\"],\n",
        "    \"contact_details\": {\"phone\": \"334344334\",'emergency':'79999999'},\n",
        "}\n",
        "\n",
        "patient1 = Patient(**patient_info)\n",
        "\n",
        "insert_patient_data(patient1)"
      ]
    },
    {
      "cell_type": "code",
      "source": [],
      "metadata": {
        "id": "3_yz5sgEZ-Re"
      },
      "execution_count": null,
      "outputs": []
    }
  ]
}