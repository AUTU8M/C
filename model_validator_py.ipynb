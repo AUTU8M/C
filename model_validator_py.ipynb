{
  "nbformat": 4,
  "nbformat_minor": 0,
  "metadata": {
    "colab": {
      "provenance": [],
      "authorship_tag": "ABX9TyPowxyfMb1LX3S8k2pvliVX",
      "include_colab_link": true
    },
    "kernelspec": {
      "name": "python3",
      "display_name": "Python 3"
    },
    "language_info": {
      "name": "python"
    }
  },
  "cells": [
    {
      "cell_type": "markdown",
      "metadata": {
        "id": "view-in-github",
        "colab_type": "text"
      },
      "source": [
        "<a href=\"https://colab.research.google.com/github/AUTU8M/C/blob/master/model_validator_py.ipynb\" target=\"_parent\"><img src=\"https://colab.research.google.com/assets/colab-badge.svg\" alt=\"Open In Colab\"/></a>"
      ]
    },
    {
      "cell_type": "code",
      "execution_count": 15,
      "metadata": {
        "colab": {
          "base_uri": "https://localhost:8080/"
        },
        "id": "vhDl6Z2zRvmQ",
        "outputId": "7373e5bb-971e-463b-a738-6eacf9b7bd76"
      },
      "outputs": [
        {
          "output_type": "stream",
          "name": "stdout",
          "text": [
            "ladla\n",
            "90\n",
            "shubham365@hdfc.com\n",
            "inserted\n"
          ]
        }
      ],
      "source": [
        "from pydantic import BaseModel, EmailStr, model_validator\n",
        "from typing import List, Dict\n",
        "\n",
        "class Patient(BaseModel):\n",
        "\n",
        "    name: str\n",
        "    email: EmailStr\n",
        "    age: int\n",
        "    weight: float\n",
        "    married: bool\n",
        "    allergies: List[str]\n",
        "    contact_details: Dict[str, str]\n",
        "\n",
        "    @model_validator(mode='after')\n",
        "    def validate_emergency_contact(cls,model):\n",
        "      if model.age >60 and 'emergency' not in model.contact_details:\n",
        "        raise ValueError(\"emergency contact is required\")\n",
        "      return model\n",
        "\n",
        "\n",
        "\n",
        "\n",
        "def insert_patient_data(patient: Patient):\n",
        "\n",
        "    print(patient.name)\n",
        "    print(patient.age)\n",
        "    print(patient.email)\n",
        "    print(\"inserted\")\n",
        "\n",
        "\n",
        "patient_info = {\n",
        "    \"name\": \"ladla\",\n",
        "    \"email\": \"shubham365@hdfc.com\",\n",
        "    \"age\": '90',\n",
        "    \"weight\": \"70.12\",\n",
        "    \"married\": True,\n",
        "    \"allergies\": [\"pollen\", \"dust\", \"shrimp\"],\n",
        "    \"contact_details\": {\"phone\": \"334344334\",'emergency':'79999999'},\n",
        "}\n",
        "\n",
        "patient1 = Patient(**patient_info)\n",
        "\n",
        "insert_patient_data(patient1)"
      ]
    }
  ]
}